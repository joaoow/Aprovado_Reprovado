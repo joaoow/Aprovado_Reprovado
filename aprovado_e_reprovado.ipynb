{
  "nbformat": 4,
  "nbformat_minor": 0,
  "metadata": {
    "colab": {
      "provenance": []
    },
    "kernelspec": {
      "name": "python3",
      "display_name": "Python 3"
    },
    "language_info": {
      "name": "python"
    }
  },
  "cells": [
    {
      "cell_type": "code",
      "execution_count": 21,
      "metadata": {
        "colab": {
          "base_uri": "https://localhost:8080/"
        },
        "id": "ypdwt3a_GZQu",
        "outputId": "698db1ab-1fea-4d36-c0b5-181b2f79a6a4"
      },
      "outputs": [
        {
          "output_type": "stream",
          "name": "stdout",
          "text": [
            "O estudante está: Aprovado\n"
          ]
        }
      ],
      "source": [
        "media = 8.5\n",
        "\n",
        "if(media>=7.0):\n",
        "  resultado = \"Aprovado\"\n",
        "elif(media>=5):\n",
        "   resultado = \"Em recuperação\"\n",
        "else:\n",
        "  resultado = \"Reprovado\"\n",
        "\n",
        "print(f'O estudante está: {resultado}')\n"
      ]
    }
  ]
}